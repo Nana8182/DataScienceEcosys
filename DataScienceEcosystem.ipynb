{
 "cells": [
  {
   "cell_type": "markdown",
   "id": "25dfd98c-349f-499e-b87a-ed86aa1dcac4",
   "metadata": {
    "tags": []
   },
   "source": [
    "# Data Science Tools and Ecosystem"
   ]
  },
  {
   "cell_type": "markdown",
   "id": "7010bc4a-16c8-4b6e-a807-de052978a89d",
   "metadata": {},
   "source": [
    "## *In this notebook, Data Science Tools and Ecosystem are summarized.*"
   ]
  },
  {
   "cell_type": "markdown",
   "id": "f628d255-f2ec-4926-b12a-618ba7a60a5d",
   "metadata": {},
   "source": [
    " **Objectives:**\n",
    " * lists of popular languages used in data science\n",
    " * List of commonly used libraries used by Data Scientists\n",
    " * A table containing open source Data Science tools\n",
    " * Examples of evaluation of arithmetic expressions using python"
   ]
  },
  {
   "cell_type": "markdown",
   "id": "08b63296-ab9d-48e8-b62d-880e1cb141b5",
   "metadata": {},
   "source": [
    "#### _Some of the popular languages that Data Scientists use are:_\n",
    "1. Python\n",
    "2. R\n",
    "3. Julia"
   ]
  },
  {
   "cell_type": "markdown",
   "id": "2785f389-c22b-41ea-814e-16fb53f90b57",
   "metadata": {},
   "source": [
    "#### _Some of the commonly used libraries used by Data Scientists include:_\n",
    "1. Numpy\n",
    "2. Tensorflow\n",
    "3. Pandas"
   ]
  },
  {
   "cell_type": "markdown",
   "id": "f04f26f3-40c6-402f-8705-5cb9031cf8cd",
   "metadata": {},
   "source": [
    "|Data Science Tools |\n",
    "|------------------ |\n",
    "|RStudio |\n",
    "|Apache Spark |\n",
    "|Apache Hadoop |"
   ]
  },
  {
   "cell_type": "markdown",
   "id": "d00158eb-d393-4c0a-ac0e-bf9694bf8922",
   "metadata": {},
   "source": [
    "### Below are a few examples of evaluating arithmetic expressions in Python:"
   ]
  },
  {
   "cell_type": "code",
   "execution_count": 81,
   "id": "f96b927e-5948-4231-b9b9-330619fe351c",
   "metadata": {},
   "outputs": [
    {
     "data": {
      "text/plain": [
       "17"
      ]
     },
     "execution_count": 81,
     "metadata": {},
     "output_type": "execute_result"
    }
   ],
   "source": [
    "# This a simple arithmetic expression to mutiply then add integers\n",
    "(3*4)+5 "
   ]
  },
  {
   "cell_type": "code",
   "execution_count": 83,
   "id": "d8c4f848-2610-4bee-8b10-8b1eddabb50d",
   "metadata": {},
   "outputs": [
    {
     "data": {
      "text/plain": [
       "3.3333333333333335"
      ]
     },
     "execution_count": 83,
     "metadata": {},
     "output_type": "execute_result"
    }
   ],
   "source": [
    "# This will convert 200 minutes to hours by diving by 60\n",
    "200/60"
   ]
  },
  {
   "cell_type": "markdown",
   "id": "4556e4db-3858-459e-89d5-f21029c51fbb",
   "metadata": {},
   "source": [
    "## Author\n",
    "Naol Teshome"
   ]
  },
  {
   "cell_type": "code",
   "execution_count": null,
   "id": "c38c1053-b0fd-4414-9b58-7406e3f46a5d",
   "metadata": {},
   "outputs": [],
   "source": []
  }
 ],
 "metadata": {
  "kernelspec": {
   "display_name": "anaconda-panel-2023.05-py310",
   "language": "python",
   "name": "conda-env-anaconda-panel-2023.05-py310-py"
  },
  "language_info": {
   "codemirror_mode": {
    "name": "ipython",
    "version": 3
   },
   "file_extension": ".py",
   "mimetype": "text/x-python",
   "name": "python",
   "nbconvert_exporter": "python",
   "pygments_lexer": "ipython3",
   "version": "3.11.5"
  }
 },
 "nbformat": 4,
 "nbformat_minor": 5
}
